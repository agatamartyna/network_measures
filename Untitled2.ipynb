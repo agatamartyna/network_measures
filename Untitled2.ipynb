{
 "cells": [
  {
   "cell_type": "code",
   "execution_count": 5,
   "id": "right-harassment",
   "metadata": {},
   "outputs": [],
   "source": [
    "import networkx as nx\n",
    "import matplotlib.pyplot as plt\n",
    "from app.density import neighbourhood_density\n",
    "from app.dictionary_process import words_segmentised\n",
    "from app.coefficient import coefficient_cluster\n",
    "\n",
    "word = \"kot\"\n",
    "neighbours = neighbourhood_density(word, words_segmentised)\n",
    "pairs = []\n",
    "\n",
    "G = nx.Graph()\n",
    "\n",
    "for neighbour in neighbours:\n",
    "    pairs.append((word, neighbour))\n",
    "    \n",
    "for pair in pairs:\n",
    "    G.add_edge(pair[0], pair[1], color='b')\n",
    "    \n",
    "\n",
    "colors = nx.get_edge_attributes(G,'color').values()\n",
    "weights = nx.get_edge_attributes(G,'weight').values()\n",
    "\n",
    "\n",
    "nx.draw(G,\n",
    "        edge_color=colors, \n",
    "        width=list(weights),\n",
    "        with_labels=True,\n",
    "        node_color='lightblue')"
   ]
  },
  {
   "cell_type": "code",
   "execution_count": null,
   "id": "ultimate-reserve",
   "metadata": {},
   "outputs": [],
   "source": []
  }
 ],
 "metadata": {
  "kernelspec": {
   "display_name": "Python 3",
   "language": "python",
   "name": "python3"
  },
  "language_info": {
   "codemirror_mode": {
    "name": "ipython",
    "version": 3
   },
   "file_extension": ".py",
   "mimetype": "text/x-python",
   "name": "python",
   "nbconvert_exporter": "python",
   "pygments_lexer": "ipython3",
   "version": "3.9.0"
  }
 },
 "nbformat": 4,
 "nbformat_minor": 5
}
